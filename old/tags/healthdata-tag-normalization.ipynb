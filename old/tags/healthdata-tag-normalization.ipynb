{
 "metadata": {
  "language_info": {
   "codemirror_mode": {
    "name": "ipython",
    "version": 3
   },
   "file_extension": ".py",
   "mimetype": "text/x-python",
   "name": "python",
   "nbconvert_exporter": "python",
   "pygments_lexer": "ipython3",
   "version": "3.9.2"
  },
  "orig_nbformat": 2,
  "kernelspec": {
   "name": "python392jvsc74a57bd0dc999da37c3bffa03b8edf005b5bb342ba7f2a027d875cc0528db430e92777e1",
   "display_name": "Python 3.9.2 64-bit"
  }
 },
 "nbformat": 4,
 "nbformat_minor": 2,
 "cells": [
  {
   "cell_type": "code",
   "execution_count": null,
   "metadata": {},
   "outputs": [],
   "source": [
    "import json"
   ]
  },
  {
   "cell_type": "code",
   "execution_count": 21,
   "metadata": {},
   "outputs": [],
   "source": [
    "\n",
    "datasets = [\n",
    "    {'name': 'hospitals', 'tags': ['covid', 'hospitals'], 'master_tags': []},\n",
    "    {'name': 'tests', 'tags': ['covid19', 'testing'], 'master_tags': []},\n",
    "    {'name': 'other', 'tags': ['wastewater', 'analysis', 'hospitalization', 'hospital', 'covid'], 'master_tags': []}\n",
    "]\n",
    "\n",
    "\n",
    "tag_map = [\n",
    "    {'normalized': 'covid-19', 'sub_tags': ['covid', 'covid19']},\n",
    "    {'normalized': 'hospital', 'sub_tags': ['hospitalization', 'hospitals', 'hospitals & facilities']}\n",
    "]"
   ]
  },
  {
   "cell_type": "code",
   "execution_count": 22,
   "metadata": {},
   "outputs": [
    {
     "output_type": "execute_result",
     "data": {
      "text/plain": [
       "[{'name': 'hospitals', 'tags': ['covid', 'hospitals'], 'master_tags': []},\n",
       " {'name': 'tests', 'tags': ['covid19', 'testing'], 'master_tags': []},\n",
       " {'name': 'other',\n",
       "  'tags': ['wastewater', 'analysis', 'hospitalization', 'hospital', 'covid'],\n",
       "  'master_tags': []}]"
      ]
     },
     "metadata": {},
     "execution_count": 22
    }
   ],
   "source": [
    "datasets"
   ]
  },
  {
   "cell_type": "code",
   "execution_count": 23,
   "metadata": {},
   "outputs": [
    {
     "output_type": "execute_result",
     "data": {
      "text/plain": [
       "[{'name': 'hospitals',\n",
       "  'tags': ['covid', 'hospitals'],\n",
       "  'master_tags': ['covid-19', 'hospital']},\n",
       " {'name': 'tests',\n",
       "  'tags': ['covid19', 'testing'],\n",
       "  'master_tags': ['covid-19']},\n",
       " {'name': 'other',\n",
       "  'tags': ['wastewater', 'analysis', 'hospitalization', 'hospital', 'covid'],\n",
       "  'master_tags': ['covid-19']}]"
      ]
     },
     "metadata": {},
     "execution_count": 23
    }
   ],
   "source": [
    "for i in tag_map: \n",
    "    for j in datasets:\n",
    "        if len([x for x in i['sub_tags'] if x in j['tags']]) > 0: # if any of the sub tags appear in the dataset's tags\n",
    "            if i['normalized'] not in j['tags']:                  # if the normalized tag does not already appear in the dataset's tags\n",
    "                j['master_tags'].append(i['normalized'])          # add the normalized tag to the dataset's tags\n",
    "\n",
    "datasets"
   ]
  },
  {
   "cell_type": "code",
   "execution_count": null,
   "metadata": {},
   "outputs": [],
   "source": [
    "for i in metadata:\n",
    "    client.update_metadata(i['id'], {'tags': i['tags'] + i['master_tags']})"
   ]
  },
  {
   "cell_type": "code",
   "execution_count": 26,
   "metadata": {},
   "outputs": [
    {
     "output_type": "execute_result",
     "data": {
      "text/plain": [
       "{'id': 'b8q3-vbwu',\n",
       " 'name': 'Hospital Supplier Diversity Reports',\n",
       " 'tags': ['disabled veteran',\n",
       "  'equity',\n",
       "  'health care',\n",
       "  'hospital supplier diversity report',\n",
       "  'lgbt',\n",
       "  'minority',\n",
       "  'supplier diversity',\n",
       "  'women'],\n",
       " 'master_tags': []}"
      ]
     },
     "metadata": {},
     "execution_count": 26
    }
   ],
   "source": [
    "datasets[0]"
   ]
  },
  {
   "cell_type": "code",
   "execution_count": null,
   "metadata": {},
   "outputs": [],
   "source": [
    "with open('metadata.json') as f:\n",
    "  metadata = json.load(f)"
   ]
  },
  {
   "cell_type": "code",
   "execution_count": 24,
   "metadata": {},
   "outputs": [],
   "source": [
    "datasets = metadata[0:100]\n",
    "datasets = [d for d in datasets if d['tags'] is not None]"
   ]
  },
  {
   "cell_type": "code",
   "execution_count": null,
   "metadata": {},
   "outputs": [],
   "source": []
  }
 ]
}