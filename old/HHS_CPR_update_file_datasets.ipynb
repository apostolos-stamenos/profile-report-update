{
 "cells": [
  {
   "cell_type": "markdown",
   "metadata": {},
   "source": [
    "# Programmatic Updates to File Datasets on healthdata.gov\n",
    "\n",
    "A file dataset, also called a \"blob\" dataset, is just a static file like a PDF or Word document that is hosted on Socrata and discoverable in your domain's data catalog.\n",
    "\n",
    "This notebook outlines the steps to accomplish the following:\n",
    "1. Updating PDF documents in published file datasets\n",
    "2. Adding attachments to the dataset\n",
    "3. Updating the `Last Update` metadata field\n",
    "\n",
    "Note that some variables should be changed by the user prior to running, as indicated in the comments."
   ]
  },
  {
   "cell_type": "code",
   "execution_count": null,
   "metadata": {},
   "outputs": [],
   "source": [
    "from socrata.authorization import Authorization\n",
    "from socrata import Socrata\n",
    "import requests\n",
    "import os\n",
    "import json\n",
    "\n",
    "dataset_id = 'j88g-nmjt' ### UPDATE with the relevant dataset 4x4 to be updated\n",
    "domain = \"hhs-odp-testing.demo.socrata.com\"\n",
    "meta_url = f\"https://{domain}/api/views/metadata/v1/{dataset_id}\"\n",
    "\n",
    "\n",
    "auth = Authorization(\n",
    "  domain,  \n",
    "  os.environ['SOCRATA_ID'], ### UPDATE with your Socrata credentials\n",
    "  os.environ['SOCRATA_KEY']\n",
    ")"
   ]
  },
  {
   "cell_type": "markdown",
   "metadata": {},
   "source": [
    "### Update the PDF\n",
    "1. Look up the existing dataset\n",
    "2. Create a new revision\n",
    "    - Revisions are essetially drafts; when you create a revision, it's the same as going into the UI and clicking \"Edit\" on a dataset. Until the revision is published, you can make any needed edits to the dataset.\n",
    "3. Load a new PDF file into the revision\n",
    "4. \"Apply\" or publish the revision"
   ]
  },
  {
   "cell_type": "code",
   "execution_count": null,
   "metadata": {},
   "outputs": [],
   "source": [
    "from datetime import date\n",
    "date.today().strftime(\"%Y%m%d\")"
   ]
  },
  {
   "cell_type": "code",
   "execution_count": null,
   "metadata": {},
   "outputs": [],
   "source": [
    "# Initialize Socrata client using auth variable from above\n",
    "socrata = Socrata(auth)\n",
    "\n",
    "# Look up existing Socrata dataset\n",
    "view = socrata.views.lookup(dataset_id)\n",
    "\n",
    "# Create new revision. default is to publish publically, \n",
    "# use `create_replace_revision(permission='private')` to publish privately\n",
    "revision = view.revisions.create_replace_revision()\n",
    "\n",
    "# Upload PDF file from disk and publish revision\n",
    "filename = 'new_pdf.pdf' ### UPDATE with the filepath to the PDF/s\n",
    "with open(filename, 'rb') as file:\n",
    "    upload = revision.source_as_blob(filename)\n",
    "    source = upload.blob(file)\n",
    "    job = revision.apply()\n",
    "    job.wait_for_finish(progress=lambda job: print('Job progress:', job.attributes['status']))"
   ]
  },
  {
   "cell_type": "markdown",
   "metadata": {},
   "source": [
    "### Add Attachments\n",
    "1. Define function\n",
    "    - Attachments are accessible through a separate endpoint, hence the additional function. \n",
    "2. Create a new revision\n",
    "3. Run function\n",
    "    - Note that the function returns a revision update object, which is a payload that should subsequently be applied to the open revision (i.e. published)\n",
    "    - Parsing the revisions \"attachments\" attribute will allow for ordering of the attachments\n",
    "4. Apply revision"
   ]
  },
  {
   "cell_type": "code",
   "execution_count": null,
   "metadata": {
    "scrolled": false
   },
   "outputs": [],
   "source": [
    "def add_attachment(revision, file_path, file_name):\n",
    "    \"\"\"\n",
    "    Add an attachment to a revision\n",
    "    Args:\n",
    "    ```\n",
    "        revision (Revision): This is the revision you want to add the attachment\n",
    "        file_path:\n",
    "            (String): The path to the file in your system\n",
    "            OR\n",
    "            (Bytes): The bytes of a file that was downloaded\n",
    "        file_name (String): The name for your file\n",
    "    ```\n",
    "    Returns:\n",
    "    ```\n",
    "        Revision\n",
    "    ```\n",
    "    Examples:\n",
    "    ```\n",
    "    revision = add_attachment(revision, 'C:\\\\Users\\\\user.name\\\\Desktop\\\\my_file.txt', 'my_file.txt')\n",
    "    revision = add_attachment(revision, request.content, 'my_file.txt')\n",
    "    ```\n",
    "    \"\"\"\n",
    "    \n",
    "    url = \"https://{domain}/api/publishing/v1/revision/{view_id}/{revision_seq}/attachment\".format(\n",
    "        view_id = revision.attributes['fourfour'],\n",
    "        revision_seq = revision.attributes['revision_seq'],\n",
    "        domain = revision.auth.domain\n",
    "    )\n",
    "    \n",
    "    if isinstance(file_path, str):\n",
    "        file = open(file_path, 'rb').read()\n",
    "    else:\n",
    "        file = file_path\n",
    "    \n",
    "    headers = {\n",
    "        \"x-file-name\": file_name\n",
    "    }\n",
    "\n",
    "    req = requests.post(url=url,auth=revision.auth.basic, data=file, headers=headers)\n",
    "    req.raise_for_status()\n",
    "    file_info = {\n",
    "        \"name\": req.json().get('filename'),\n",
    "        \"filename\": req.json().get('filename'),\n",
    "        \"blob_id\": None,\n",
    "        \"asset_id\": req.json().get('file_id')\n",
    "    }\n",
    "    \n",
    "    attachments = revision.attributes['attachments']\n",
    "    attachments.append(file_info)\n",
    "    return revision.update({\n",
    "        'attachments': attachments\n",
    "    })\n",
    "  "
   ]
  },
  {
   "cell_type": "code",
   "execution_count": null,
   "metadata": {},
   "outputs": [],
   "source": [
    "# Create new revision\n",
    "revision = view.revisions.create_replace_revision()\n",
    "\n",
    "# Run function & apply revision\n",
    "attachment_update = add_attachment(revision, filename, 'State_Summaries_Alabama.pdf') ### UPDATE with the file name\n",
    "                                                                                        # that users should see when they\n",
    "                                                                    # view the attachments on the dataset primer page\n",
    "job = attachment_update.apply()\n",
    "job.wait_for_finish(progress=lambda job: print('Job progress:', job.attributes['status']))                                                                "
   ]
  },
  {
   "cell_type": "markdown",
   "metadata": {},
   "source": [
    "### Update `Last Update` Metadata Field\n",
    "1. Create JSON payload\n",
    "2. Send `PATCH` request to metadata API endpoint"
   ]
  },
  {
   "cell_type": "code",
   "execution_count": null,
   "metadata": {},
   "outputs": [],
   "source": [
    "last_update = \"July 30, 2021\" ### UPDATE with the relevant value for this metadata field\n",
    "payload = {\"customFields\": {\"Common Core\": {\"Last Update\" : last_update}}}\n",
    "json_data = json.dumps(payload)\n",
    "req_update = requests.patch(meta_url, json_data, auth=(os.environ['SOCRATA_ID'],os.environ['SOCRATA_KEY']))\n",
    "meta_new = req_update.text\n"
   ]
  },
  {
   "cell_type": "code",
   "execution_count": 60,
   "metadata": {},
   "outputs": [],
   "source": [
    "import utils"
   ]
  },
  {
   "cell_type": "code",
   "execution_count": 61,
   "metadata": {},
   "outputs": [
    {
     "output_type": "error",
     "ename": "TypeError",
     "evalue": "add_attachment() missing 3 required positional arguments: 'revision', 'file_path', and 'file_name'",
     "traceback": [
      "\u001b[0;31m---------------------------------------------------------------------------\u001b[0m",
      "\u001b[0;31mTypeError\u001b[0m                                 Traceback (most recent call last)",
      "\u001b[0;32m<ipython-input-61-dc8d58ab718c>\u001b[0m in \u001b[0;36m<module>\u001b[0;34m\u001b[0m\n\u001b[0;32m----> 1\u001b[0;31m \u001b[0mutils\u001b[0m\u001b[0;34m.\u001b[0m\u001b[0madd_attachment\u001b[0m\u001b[0;34m(\u001b[0m\u001b[0;34m)\u001b[0m\u001b[0;34m\u001b[0m\u001b[0;34m\u001b[0m\u001b[0m\n\u001b[0m",
      "\u001b[0;31mTypeError\u001b[0m: add_attachment() missing 3 required positional arguments: 'revision', 'file_path', and 'file_name'"
     ]
    }
   ],
   "source": [
    "utils.add_attachment()"
   ]
  },
  {
   "cell_type": "code",
   "execution_count": 56,
   "metadata": {},
   "outputs": [],
   "source": [
    "import json\n",
    "import re\n",
    "with open('metadata.json') as f:\n",
    "  metadata = json.load(f)"
   ]
  },
  {
   "cell_type": "code",
   "execution_count": 57,
   "metadata": {},
   "outputs": [],
   "source": [
    "profile_reports = [i for i in metadata if i['name'].__contains__('State Profile Report')]\n",
    "for i in profile_reports:\n",
    "    del i['tags']\n",
    "    del i['master_tags']\n",
    "    i['name'] = re.sub('COVID-19 State Profile Report - ', '', i['name'])\n",
    "    i['name'] = re.sub(' ', '_', i['name'])"
   ]
  },
  {
   "cell_type": "code",
   "execution_count": 58,
   "metadata": {},
   "outputs": [],
   "source": [
    "with open('profile_reports_config.json', 'w') as json_file:\n",
    "  json.dump(profile_reports, json_file)"
   ]
  },
  {
   "cell_type": "code",
   "execution_count": null,
   "metadata": {},
   "outputs": [],
   "source": []
  }
 ],
 "metadata": {
  "kernelspec": {
   "name": "python3",
   "display_name": "Python 3.9.1 64-bit ('3.9')"
  },
  "language_info": {
   "codemirror_mode": {
    "name": "ipython",
    "version": 3
   },
   "file_extension": ".py",
   "mimetype": "text/x-python",
   "name": "python",
   "nbconvert_exporter": "python",
   "pygments_lexer": "ipython3",
   "version": "3.9.1"
  },
  "interpreter": {
   "hash": "7812ea015bdcee6f23a998adcdd2ef97c151c0c241b7b7070987d9313e41299d"
  }
 },
 "nbformat": 4,
 "nbformat_minor": 4
}