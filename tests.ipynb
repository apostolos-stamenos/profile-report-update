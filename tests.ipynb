{
 "metadata": {
  "language_info": {
   "codemirror_mode": {
    "name": "ipython",
    "version": 3
   },
   "file_extension": ".py",
   "mimetype": "text/x-python",
   "name": "python",
   "nbconvert_exporter": "python",
   "pygments_lexer": "ipython3",
   "version": 3
  },
  "orig_nbformat": 2
 },
 "nbformat": 4,
 "nbformat_minor": 2,
 "cells": [
  {
   "cell_type": "code",
   "execution_count": null,
   "metadata": {},
   "outputs": [],
   "source": [
    "from boxsdk import JWTAuth, Client\n",
    "from boxsdk.network.default_network import DefaultNetwork\n",
    "\n",
    "box_auth = JWTAuth.from_settings_file('jwt_auth.json')\n",
    "box_client = Client(box_auth)"
   ]
  },
  {
   "cell_type": "code",
   "execution_count": null,
   "metadata": {},
   "outputs": [],
   "source": [
    "items = box_client.folder(folder_id='142985903440').get()\n",
    "\n",
    "for item in items:\n",
    "    print(item.id)"
   ]
  }
 ]
}