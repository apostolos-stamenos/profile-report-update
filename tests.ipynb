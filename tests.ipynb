{
 "metadata": {
  "language_info": {
   "codemirror_mode": {
    "name": "ipython",
    "version": 3
   },
   "file_extension": ".py",
   "mimetype": "text/x-python",
   "name": "python",
   "nbconvert_exporter": "python",
   "pygments_lexer": "ipython3",
   "version": "3.9.4"
  },
  "orig_nbformat": 2,
  "kernelspec": {
   "name": "python3",
   "display_name": "Python 3.9.4 64-bit"
  },
  "interpreter": {
   "hash": "dc999da37c3bffa03b8edf005b5bb342ba7f2a027d875cc0528db430e92777e1"
  }
 },
 "nbformat": 4,
 "nbformat_minor": 2,
 "cells": [
  {
   "cell_type": "code",
   "execution_count": null,
   "source": [
    "from boxsdk import JWTAuth, Client\r\n",
    "from boxsdk.network.default_network import DefaultNetwork\r\n",
    "\r\n",
    "box_auth = JWTAuth.from_settings_file('jwt_auth.json')\r\n",
    "box_client = Client(box_auth)"
   ],
   "outputs": [],
   "metadata": {}
  },
  {
   "cell_type": "code",
   "execution_count": null,
   "source": [
    "items = box_client.folder(folder_id='142985903440').get_items()\r\n",
    "\r\n",
    "print(items)\r\n",
    "for item in items:\r\n",
    "    print(item.id)"
   ],
   "outputs": [],
   "metadata": {}
  },
  {
   "cell_type": "code",
   "execution_count": 12,
   "source": [
    "output_file = open('file.pdf', 'wb')\r\n",
    "box_client.file('844810169389').download_to(output_file)"
   ],
   "outputs": [],
   "metadata": {}
  },
  {
   "cell_type": "code",
   "execution_count": 10,
   "source": [
    "from datetime import date, timedelta\r\n",
    "(date.today() - timedelta(4)).strftime(\"%Y%m%d\")"
   ],
   "outputs": [
    {
     "output_type": "execute_result",
     "data": {
      "text/plain": [
       "'20210813'"
      ]
     },
     "metadata": {},
     "execution_count": 10
    }
   ],
   "metadata": {}
  },
  {
   "cell_type": "code",
   "execution_count": 13,
   "source": [
    "import json\r\n",
    "\r\n",
    "with open('test-config.json') as f:\r\n",
    "  test_config = json.load(f)\r\n",
    "\r\n",
    "test_config"
   ],
   "outputs": [
    {
     "output_type": "execute_result",
     "data": {
      "text/plain": [
       "[{'id': 'i9d4-jdss', 'name': 'California'},\n",
       " {'id': 'g4q7-3dne', 'name': 'Texas'}]"
      ]
     },
     "metadata": {},
     "execution_count": 13
    }
   ],
   "metadata": {}
  },
  {
   "cell_type": "code",
   "execution_count": 17,
   "source": [
    "[test_config[0]]"
   ],
   "outputs": [
    {
     "output_type": "execute_result",
     "data": {
      "text/plain": [
       "[{'id': 'i9d4-jdss', 'name': 'California'}]"
      ]
     },
     "metadata": {},
     "execution_count": 17
    }
   ],
   "metadata": {}
  },
  {
   "cell_type": "code",
   "execution_count": 19,
   "source": [
    "from socrata.authorization import Authorization\r\n",
    "import os\r\n",
    "domain = \"healthdata.gov\"\r\n",
    "\r\n",
    "socrata_auth = Authorization(\r\n",
    "  domain,\r\n",
    "  os.environ['SOCRATA_ID'], \r\n",
    "  os.environ['SOCRATA_KEY']\r\n",
    ")"
   ],
   "outputs": [],
   "metadata": {}
  },
  {
   "cell_type": "code",
   "execution_count": null,
   "source": [],
   "outputs": [],
   "metadata": {}
  }
 ]
}