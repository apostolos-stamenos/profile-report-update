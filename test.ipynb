{
 "cells": [
  {
   "cell_type": "code",
   "execution_count": 1,
   "metadata": {},
   "outputs": [
    {
     "data": {
      "text/plain": [
       "'9bd56qzzelpi13het5gj0yagy'"
      ]
     },
     "execution_count": 1,
     "metadata": {},
     "output_type": "execute_result"
    }
   ],
   "source": [
    "import os\n",
    "from datetime import date, timedelta\n",
    "\n",
    "date.today() - timedelta(4)"
   ]
  }
 ],
 "metadata": {
  "interpreter": {
   "hash": "7ee7765acde157d0553d062bf8a3e932bd58abec0090ecc73906b90319e40bff"
  },
  "kernelspec": {
   "display_name": "Python 3.7.9 64-bit ('arcgispro-py3': conda)",
   "language": "python",
   "name": "python3"
  },
  "language_info": {
   "codemirror_mode": {
    "name": "ipython",
    "version": 3
   },
   "file_extension": ".py",
   "mimetype": "text/x-python",
   "name": "python",
   "nbconvert_exporter": "python",
   "pygments_lexer": "ipython3",
   "version": "3.7.8"
  },
  "orig_nbformat": 4
 },
 "nbformat": 4,
 "nbformat_minor": 2
}
