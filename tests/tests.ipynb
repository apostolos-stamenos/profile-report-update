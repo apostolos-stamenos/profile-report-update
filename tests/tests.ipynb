{
 "metadata": {
  "language_info": {
   "codemirror_mode": {
    "name": "ipython",
    "version": 3
   },
   "file_extension": ".py",
   "mimetype": "text/x-python",
   "name": "python",
   "nbconvert_exporter": "python",
   "pygments_lexer": "ipython3",
   "version": "3.9.4"
  },
  "orig_nbformat": 2,
  "kernelspec": {
   "name": "python3",
   "display_name": "Python 3.9.4 64-bit"
  },
  "interpreter": {
   "hash": "dc999da37c3bffa03b8edf005b5bb342ba7f2a027d875cc0528db430e92777e1"
  }
 },
 "nbformat": 4,
 "nbformat_minor": 2,
 "cells": [
  {
   "cell_type": "code",
   "execution_count": null,
   "source": [
    "from boxsdk import JWTAuth, Client\r\n",
    "from boxsdk.network.default_network import DefaultNetwork\r\n",
    "\r\n",
    "box_auth = JWTAuth.from_settings_file('jwt_auth.json')\r\n",
    "box_client = Client(box_auth)"
   ],
   "outputs": [],
   "metadata": {}
  },
  {
   "cell_type": "code",
   "execution_count": null,
   "source": [
    "items = box_client.folder(folder_id='142985903440').get_items()\r\n",
    "\r\n",
    "print(items)\r\n",
    "for item in items:\r\n",
    "    print(item.id)"
   ],
   "outputs": [],
   "metadata": {}
  },
  {
   "cell_type": "code",
   "execution_count": 12,
   "source": [
    "output_file = open('file.pdf', 'wb')\r\n",
    "box_client.file('844810169389').download_to(output_file)"
   ],
   "outputs": [],
   "metadata": {}
  },
  {
   "cell_type": "code",
   "execution_count": 10,
   "source": [
    "from datetime import date, timedelta\r\n",
    "(date.today() - timedelta(4)).strftime(\"%Y%m%d\")"
   ],
   "outputs": [
    {
     "output_type": "execute_result",
     "data": {
      "text/plain": [
       "'20210813'"
      ]
     },
     "metadata": {},
     "execution_count": 10
    }
   ],
   "metadata": {}
  },
  {
   "cell_type": "code",
   "execution_count": 24,
   "source": [
    "import json\r\n",
    "\r\n",
    "with open('profile_reports_config.json') as f:\r\n",
    "  test_config = json.load(f)\r\n",
    "\r\n",
    "test_config"
   ],
   "outputs": [
    {
     "output_type": "execute_result",
     "data": {
      "text/plain": [
       "[{'id': '5mth-2h7d', 'name': 'Combined_Set'},\n",
       " {'id': 'dfc5-i6nj', 'name': 'Puerto_Rico'},\n",
       " {'id': '4rum-vqci', 'name': 'Wyoming'},\n",
       " {'id': 'hp7n-grw3', 'name': 'Wisconsin'},\n",
       " {'id': 'dnw8-3gjh', 'name': 'West_Virginia'},\n",
       " {'id': 'syb3-ygtv', 'name': 'Washington'},\n",
       " {'id': '3ghy-svgi', 'name': 'Virginia'},\n",
       " {'id': 'caha-cjqa', 'name': 'Vermont'},\n",
       " {'id': 'ty5p-yg3i', 'name': 'Utah'},\n",
       " {'id': 'dec4-x7dz', 'name': 'Texas'},\n",
       " {'id': 'j9qx-nqzb', 'name': 'Tennessee'},\n",
       " {'id': '4q57-igvb', 'name': 'South_Dakota'},\n",
       " {'id': 'jw8e-8y5f', 'name': 'South_Carolina'},\n",
       " {'id': 'csww-skrn', 'name': 'Rhode_Island'},\n",
       " {'id': 'tkdp-r3p8', 'name': 'Pennsylvania'},\n",
       " {'id': '9m6w-5qu7', 'name': 'Oregon'},\n",
       " {'id': 'w3en-az48', 'name': 'Oklahoma'},\n",
       " {'id': 'wq3k-5ghq', 'name': 'Ohio'},\n",
       " {'id': '8hnt-tgfp', 'name': 'North_Dakota'},\n",
       " {'id': '23cf-8ity', 'name': 'North_Carolina'},\n",
       " {'id': 'jp3x-apea', 'name': 'New_York'},\n",
       " {'id': 'ngmg-br38', 'name': 'New_Mexico'},\n",
       " {'id': 'be56-b6cc', 'name': 'New_Jersey'},\n",
       " {'id': '62ta-rvvi', 'name': 'New_Hampshire'},\n",
       " {'id': 'ym2i-z2sf', 'name': 'Nevada'},\n",
       " {'id': 't9zc-ft7t', 'name': 'Nebraska'},\n",
       " {'id': 'r9uc-htd7', 'name': 'Montana'},\n",
       " {'id': 'cq69-gktb', 'name': 'Missouri'},\n",
       " {'id': 'epqx-kmvs', 'name': 'Mississippi'},\n",
       " {'id': 'i4ap-ptia', 'name': 'Minnesota'},\n",
       " {'id': 's8hn-gz3c', 'name': 'Michigan'},\n",
       " {'id': 'j75q-tgps', 'name': 'Massachusetts'},\n",
       " {'id': '2ig2-g9px', 'name': 'Maryland'},\n",
       " {'id': 'vyxj-mwyr', 'name': 'Maine'},\n",
       " {'id': '8dwd-knb9', 'name': 'Louisiana'},\n",
       " {'id': 'rxgn-k38p', 'name': 'Kentucky'},\n",
       " {'id': 'scin-7ddt', 'name': 'Kansas'},\n",
       " {'id': 'enjr-ewxm', 'name': 'Iowa'},\n",
       " {'id': 'fefx-nm27', 'name': 'Indiana'},\n",
       " {'id': 'cmib-5z2c', 'name': 'Illinois'},\n",
       " {'id': '6icv-9ayc', 'name': 'Idaho'},\n",
       " {'id': 'q6r4-hjgy', 'name': 'Hawaii'},\n",
       " {'id': 'xhcs-tqqe', 'name': 'Georgia'},\n",
       " {'id': 'ht94-9tjc', 'name': 'Florida'},\n",
       " {'id': 'snyw-dezt', 'name': 'District_Of_Columbia'},\n",
       " {'id': 'dge2-giyq', 'name': 'Delaware'},\n",
       " {'id': 'fkqu-6qqx', 'name': 'Connecticut'},\n",
       " {'id': '6dcr-9yvv', 'name': 'Colorado'},\n",
       " {'id': '7pid-y24r', 'name': 'California'},\n",
       " {'id': 'cdsu-kww8', 'name': 'Arkansas'},\n",
       " {'id': 'evg9-5aqc', 'name': 'Alaska'},\n",
       " {'id': 'v5xn-2pmv', 'name': 'Alabama'},\n",
       " {'id': 'iuqv-5x8z', 'name': 'Arizona'}]"
      ]
     },
     "metadata": {},
     "execution_count": 24
    }
   ],
   "metadata": {}
  },
  {
   "cell_type": "code",
   "execution_count": 29,
   "source": [
    "list(range(0, 52))"
   ],
   "outputs": [
    {
     "output_type": "execute_result",
     "data": {
      "text/plain": [
       "[0,\n",
       " 1,\n",
       " 2,\n",
       " 3,\n",
       " 4,\n",
       " 5,\n",
       " 6,\n",
       " 7,\n",
       " 8,\n",
       " 9,\n",
       " 10,\n",
       " 11,\n",
       " 12,\n",
       " 13,\n",
       " 14,\n",
       " 15,\n",
       " 16,\n",
       " 17,\n",
       " 18,\n",
       " 19,\n",
       " 20,\n",
       " 21,\n",
       " 22,\n",
       " 23,\n",
       " 24,\n",
       " 25,\n",
       " 26,\n",
       " 27,\n",
       " 28,\n",
       " 29,\n",
       " 30,\n",
       " 31,\n",
       " 32,\n",
       " 33,\n",
       " 34,\n",
       " 35,\n",
       " 36,\n",
       " 37,\n",
       " 38,\n",
       " 39,\n",
       " 40,\n",
       " 41,\n",
       " 42,\n",
       " 43,\n",
       " 44,\n",
       " 45,\n",
       " 46,\n",
       " 47,\n",
       " 48,\n",
       " 49,\n",
       " 50,\n",
       " 51]"
      ]
     },
     "metadata": {},
     "execution_count": 29
    }
   ],
   "metadata": {}
  },
  {
   "cell_type": "code",
   "execution_count": 19,
   "source": [
    "from socrata.authorization import Authorization\r\n",
    "import os\r\n",
    "domain = \"healthdata.gov\"\r\n",
    "\r\n",
    "socrata_auth = Authorization(\r\n",
    "  domain,\r\n",
    "  os.environ['SOCRATA_ID'], \r\n",
    "  os.environ['SOCRATA_KEY']\r\n",
    ")"
   ],
   "outputs": [],
   "metadata": {}
  },
  {
   "cell_type": "code",
   "execution_count": null,
   "source": [],
   "outputs": [],
   "metadata": {}
  }
 ]
}